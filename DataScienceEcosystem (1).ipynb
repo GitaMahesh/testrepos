{
 "cells": [
  {
   "cell_type": "markdown",
   "id": "29d2090e-17fc-4808-af1c-cd3b25d70b60",
   "metadata": {
    "tags": []
   },
   "source": [
    "Data Science Tools and Ecosystem"
   ]
  },
  {
   "cell_type": "markdown",
   "id": "a22a79ab-0440-45d9-aa54-4d43d89dad8c",
   "metadata": {},
   "source": [
    "In this notebook, Data Science Tools and Ecosystem are summarized."
   ]
  },
  {
   "cell_type": "markdown",
   "id": "ea1a4c23-cad5-4fa5-a369-d95fbd47e9c6",
   "metadata": {},
   "source": [
    "Some of the popular languages that Data Scientists use are:\n",
    "   1. Python\n",
    "   2. R\n",
    "   3. Java\n",
    "   4. Julia"
   ]
  },
  {
   "cell_type": "markdown",
   "id": "233e543c-90e2-4a22-96f4-eef63828bf5d",
   "metadata": {},
   "source": [
    "Some of the commonly used libraries used by Data Scientists include:\n",
    "1. Pandas\n",
    "2. NumPy\n",
    "3. SciPy\n",
    "4. Matplotlib\n"
   ]
  },
  {
   "cell_type": "markdown",
   "id": "da37d5da-5bab-4f48-b458-b6da5060e409",
   "metadata": {},
   "source": [
    "|S_NO. |Data Science Tools|\n",
    "-------|-------------------\n",
    "|1. |R Studio|\n",
    "|2. |Apache Zeppelin|\n",
    "|3. |Jupyter lab|"
   ]
  },
  {
   "cell_type": "markdown",
   "id": "c4d02d0b-fef7-472a-ad5f-8c54b6793230",
   "metadata": {
    "tags": []
   },
   "source": [
    "### Below are a few examples of evaluating arithmetic expressions in Python"
   ]
  },
  {
   "cell_type": "code",
   "execution_count": 9,
   "id": "ee344857-2118-4d8a-93ee-45a0fae872ec",
   "metadata": {
    "tags": []
   },
   "outputs": [
    {
     "data": {
      "text/plain": [
       "5"
      ]
     },
     "execution_count": 9,
     "metadata": {},
     "output_type": "execute_result"
    }
   ],
   "source": [
    "2+3"
   ]
  },
  {
   "cell_type": "code",
   "execution_count": 10,
   "id": "cc3c749c-6b1b-4b6e-805e-ee40002990b8",
   "metadata": {
    "tags": []
   },
   "outputs": [
    {
     "data": {
      "text/plain": [
       "60"
      ]
     },
     "execution_count": 10,
     "metadata": {},
     "output_type": "execute_result"
    }
   ],
   "source": [
    "6*10"
   ]
  },
  {
   "cell_type": "markdown",
   "id": "7a877cdc-5284-47d8-b8aa-447fabca56ef",
   "metadata": {},
   "source": [
    "This a simple arithmetic expression to multiply then add integers"
   ]
  },
  {
   "cell_type": "code",
   "execution_count": 11,
   "id": "0febb5d2-b11a-456e-82c2-fd66313bdabf",
   "metadata": {
    "tags": []
   },
   "outputs": [
    {
     "data": {
      "text/plain": [
       "17"
      ]
     },
     "execution_count": 11,
     "metadata": {},
     "output_type": "execute_result"
    }
   ],
   "source": [
    "(3*4)+5"
   ]
  },
  {
   "cell_type": "markdown",
   "id": "ec7e0227-cb1a-4bfe-845d-bf92ddd36578",
   "metadata": {},
   "source": [
    "This will convert 200 minutes to hours by diving by 60"
   ]
  },
  {
   "cell_type": "code",
   "execution_count": 16,
   "id": "92531a27-aec4-421b-bfc1-f38e19e8e781",
   "metadata": {
    "tags": []
   },
   "outputs": [
    {
     "data": {
      "text/plain": [
       "3.3333333333333335"
      ]
     },
     "execution_count": 16,
     "metadata": {},
     "output_type": "execute_result"
    }
   ],
   "source": [
    "200/60"
   ]
  },
  {
   "cell_type": "markdown",
   "id": "d18bb7a9-f32b-4058-8254-225a3eea418d",
   "metadata": {},
   "source": [
    "Objectives:"
   ]
  },
  {
   "cell_type": "markdown",
   "id": "b166d902-fdc4-4b70-9ed7-60e345e3eb04",
   "metadata": {},
   "source": [
    "* List popular languages for Data Science\n",
    "* List commonly used libraries for Data Science\n",
    "* Evaluating arithmetic expressions in Python"
   ]
  },
  {
   "cell_type": "markdown",
   "id": "958db119-5dc7-42d7-a4b8-fb73416b8fe3",
   "metadata": {
    "tags": []
   },
   "source": [
    "## Author\n",
    "------------"
   ]
  },
  {
   "cell_type": "markdown",
   "id": "df7b3fa7-d541-4023-a430-716c849ed707",
   "metadata": {},
   "source": [
    "Gita Pappala"
   ]
  },
  {
   "cell_type": "code",
   "execution_count": null,
   "id": "c73fcad6-7f1b-482f-b827-c0bcf4763a4a",
   "metadata": {},
   "outputs": [],
   "source": []
  }
 ],
 "metadata": {
  "kernelspec": {
   "display_name": "Python",
   "language": "python",
   "name": "conda-env-python-py"
  },
  "language_info": {
   "codemirror_mode": {
    "name": "ipython",
    "version": 3
   },
   "file_extension": ".py",
   "mimetype": "text/x-python",
   "name": "python",
   "nbconvert_exporter": "python",
   "pygments_lexer": "ipython3",
   "version": "3.7.12"
  }
 },
 "nbformat": 4,
 "nbformat_minor": 5
}
